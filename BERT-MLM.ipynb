{
 "cells": [
  {
   "cell_type": "markdown",
   "id": "aef39bd0",
   "metadata": {},
   "source": [
    "## BERT を用いた自動文章生成"
   ]
  },
  {
   "cell_type": "markdown",
   "id": "e304916c",
   "metadata": {},
   "source": [
    "自然気語処理のBERTモデル（　https://arxiv.org/abs/1810.04805　）を用いた文章の穴埋めを自動予測するコードを生成。\n",
    "\n",
    "### 手順\n",
    "### 1. ライブラリのインストール\n",
    "### 2. モデルの準備\n",
    "### 3. マスク単語予測(MLM)\n",
    "\n",
    "今回は、例文【アルベルト・アインシュタインはそれまでの物理学の認識を根本から変え、「20世紀最高の物理学者」とも評される】を用いて検証する。\n",
    "入力テキストを変更して自由に文章を設定可能。\n",
    "- input_ids の f' 'の中に書き込む\n",
    "- {tokenizer.mask_token}を含めるのを忘れずに"
   ]
  },
  {
   "cell_type": "markdown",
   "id": "a3318dec",
   "metadata": {},
   "source": [
    "### 1. ライブラリのインストール"
   ]
  },
  {
   "cell_type": "code",
   "execution_count": null,
   "id": "1d5db596",
   "metadata": {},
   "outputs": [],
   "source": [
    "# 日本語用パッケージをインストール\n",
    "!pip install \"fugashi[unidic]\"\n",
    "!pip install ipadic"
   ]
  },
  {
   "cell_type": "code",
   "execution_count": null,
   "id": "f5f0a777",
   "metadata": {},
   "outputs": [],
   "source": [
    "pip install transformers"
   ]
  },
  {
   "cell_type": "code",
   "execution_count": null,
   "id": "5f634f34",
   "metadata": {},
   "outputs": [],
   "source": [
    "pip install fugashi"
   ]
  },
  {
   "cell_type": "code",
   "execution_count": null,
   "id": "4c9c84f5",
   "metadata": {},
   "outputs": [],
   "source": [
    "pip install ipadic"
   ]
  },
  {
   "cell_type": "markdown",
   "id": "60d49299",
   "metadata": {},
   "source": [
    "### 2. モデルの準備"
   ]
  },
  {
   "cell_type": "code",
   "execution_count": null,
   "id": "f6812a3d",
   "metadata": {},
   "outputs": [],
   "source": [
    "import torch\n",
    "from transformers import AutoTokenizer, AutoModelForMaskedLM\n",
    "\n",
    "# トークナイザの準備\n",
    "tokenizer = AutoTokenizer.from_pretrained('cl-tohoku/bert-base-japanese-whole-word-masking')\n",
    "# モデルの準備\n",
    "model = AutoModelForMaskedLM.from_pretrained('cl-tohoku/bert-base-japanese-whole-word-masking')\n"
   ]
  },
  {
   "cell_type": "markdown",
   "id": "8d0b077b",
   "metadata": {},
   "source": [
    "### 3. マスク単語予測(MLM)"
   ]
  },
  {
   "cell_type": "code",
   "execution_count": null,
   "id": "f58fa1af",
   "metadata": {},
   "outputs": [],
   "source": [
    "# 入力テキストのエンコード\n",
    "input_ids = tokenizer.encode(f'アルベルト・アインシュタインはそれまでの物理学の認識を根本から変え、「20世紀最高の{tokenizer.mask_token}」とも評される。', return_tensors='pt')\n",
    "print('input_ids:', tokenizer.convert_ids_to_tokens(input_ids[0].tolist()))\n",
    "\n",
    "# マスクインデックスの取得\n",
    "masked_index = torch.where(input_ids == tokenizer.mask_token_id)[1].tolist()[0]\n",
    "print('masked_index:', masked_index)\n",
    "\n",
    "# マスクトークンの予測\n",
    "result = model(input_ids)\n",
    "\n",
    "pred_ids = result[0][:, masked_index].topk(5).indices.tolist()[0]\n",
    "\n",
    "# 5回繰り返す\n",
    "for pred_id in pred_ids\n",
    "    output_ids = input_ids.tolist()[0]\n",
    "    output_ids[masked_index] = pred_id\n",
    "    print(tokenizer.decode(output_ids))"
   ]
  }
 ],
 "metadata": {
  "kernelspec": {
   "display_name": "Python 3 (ipykernel)",
   "language": "python",
   "name": "python3"
  },
  "language_info": {
   "codemirror_mode": {
    "name": "ipython",
    "version": 3
   },
   "file_extension": ".py",
   "mimetype": "text/x-python",
   "name": "python",
   "nbconvert_exporter": "python",
   "pygments_lexer": "ipython3",
   "version": "3.9.7"
  }
 },
 "nbformat": 4,
 "nbformat_minor": 5
}
